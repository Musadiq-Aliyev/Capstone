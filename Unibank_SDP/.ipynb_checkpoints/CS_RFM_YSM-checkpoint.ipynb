{
 "cells": [
  {
   "cell_type": "code",
   "execution_count": 1,
   "metadata": {},
   "outputs": [
    {
     "name": "stdout",
     "output_type": "stream",
     "text": [
      "   CARD_HOLDER FIRST_NAME      SURNAME     TRANS_ID  AMOUNT OP_DATE_PRECISE\n",
      "1      2289906      AYTAC  AĞAKİŞİYEVA  TM758251134    1.00      23/08/2017\n",
      "2      2289906      AYTAC  AĞAKİŞİYEVA  TM758251135    1.19      23/08/2017\n",
      "3      2289906      AYTAC  AĞAKİŞİYEVA  TM758251136    2.18      23/08/2017\n",
      "4      2289906      AYTAC  AĞAKİŞİYEVA  TM754884437   15.15      16/08/2017\n",
      "5      2289906      AYTAC  AĞAKİŞİYEVA  TM758797131    1.52      24/08/2017\n"
     ]
    }
   ],
   "source": [
    "#!/usr/bin/env python\n",
    "# coding: utf-8\n",
    "\n",
    "# In[76]:\n",
    "\n",
    "\n",
    "import pandas as pd\n",
    "import warnings\n",
    "warnings.filterwarnings('ignore')\n",
    "\n",
    "df = pd.read_excel(\"data_ysm.xlsx\")\n",
    "print(df.head())\n"
   ]
  },
  {
   "cell_type": "code",
   "execution_count": 2,
   "metadata": {},
   "outputs": [],
   "source": [
    "df1 = df\n",
    "\n",
    "\n",
    "# We need to do santity check about the data\n"
   ]
  },
  {
   "cell_type": "code",
   "execution_count": 3,
   "metadata": {},
   "outputs": [
    {
     "data": {
      "text/plain": [
       "46086"
      ]
     },
     "execution_count": 3,
     "metadata": {},
     "output_type": "execute_result"
    }
   ],
   "source": [
    "df1.TRANS_ID.nunique()\n",
    "#df1.CARD_HOLDER.nunique()"
   ]
  },
  {
   "cell_type": "code",
   "execution_count": 4,
   "metadata": {},
   "outputs": [
    {
     "data": {
      "text/plain": [
       "CARD_HOLDER        0\n",
       "FIRST_NAME         0\n",
       "SURNAME            0\n",
       "TRANS_ID           0\n",
       "AMOUNT             0\n",
       "OP_DATE_PRECISE    0\n",
       "dtype: int64"
      ]
     },
     "execution_count": 4,
     "metadata": {},
     "output_type": "execute_result"
    }
   ],
   "source": [
    "df1.isnull().sum(axis=0)\n"
   ]
  },
  {
   "cell_type": "code",
   "execution_count": 5,
   "metadata": {},
   "outputs": [
    {
     "data": {
      "text/html": [
       "<div>\n",
       "<style scoped>\n",
       "    .dataframe tbody tr th:only-of-type {\n",
       "        vertical-align: middle;\n",
       "    }\n",
       "\n",
       "    .dataframe tbody tr th {\n",
       "        vertical-align: top;\n",
       "    }\n",
       "\n",
       "    .dataframe thead th {\n",
       "        text-align: right;\n",
       "    }\n",
       "</style>\n",
       "<table border=\"1\" class=\"dataframe\">\n",
       "  <thead>\n",
       "    <tr style=\"text-align: right;\">\n",
       "      <th></th>\n",
       "      <th>CARD_HOLDER</th>\n",
       "      <th>AMOUNT</th>\n",
       "    </tr>\n",
       "  </thead>\n",
       "  <tbody>\n",
       "    <tr>\n",
       "      <th>count</th>\n",
       "      <td>4.608600e+04</td>\n",
       "      <td>46086.000000</td>\n",
       "    </tr>\n",
       "    <tr>\n",
       "      <th>mean</th>\n",
       "      <td>1.993209e+06</td>\n",
       "      <td>121.111217</td>\n",
       "    </tr>\n",
       "    <tr>\n",
       "      <th>std</th>\n",
       "      <td>9.545358e+05</td>\n",
       "      <td>983.685744</td>\n",
       "    </tr>\n",
       "    <tr>\n",
       "      <th>min</th>\n",
       "      <td>5.000000e+01</td>\n",
       "      <td>0.000000</td>\n",
       "    </tr>\n",
       "    <tr>\n",
       "      <th>25%</th>\n",
       "      <td>1.277040e+06</td>\n",
       "      <td>5.000000</td>\n",
       "    </tr>\n",
       "    <tr>\n",
       "      <th>50%</th>\n",
       "      <td>2.336072e+06</td>\n",
       "      <td>15.500000</td>\n",
       "    </tr>\n",
       "    <tr>\n",
       "      <th>75%</th>\n",
       "      <td>2.843326e+06</td>\n",
       "      <td>66.497500</td>\n",
       "    </tr>\n",
       "    <tr>\n",
       "      <th>max</th>\n",
       "      <td>2.964055e+06</td>\n",
       "      <td>101357.900000</td>\n",
       "    </tr>\n",
       "  </tbody>\n",
       "</table>\n",
       "</div>"
      ],
      "text/plain": [
       "        CARD_HOLDER         AMOUNT\n",
       "count  4.608600e+04   46086.000000\n",
       "mean   1.993209e+06     121.111217\n",
       "std    9.545358e+05     983.685744\n",
       "min    5.000000e+01       0.000000\n",
       "25%    1.277040e+06       5.000000\n",
       "50%    2.336072e+06      15.500000\n",
       "75%    2.843326e+06      66.497500\n",
       "max    2.964055e+06  101357.900000"
      ]
     },
     "execution_count": 5,
     "metadata": {},
     "output_type": "execute_result"
    }
   ],
   "source": [
    "df1.describe()\n"
   ]
  },
  {
   "cell_type": "code",
   "execution_count": 6,
   "metadata": {},
   "outputs": [
    {
     "data": {
      "text/html": [
       "<div>\n",
       "<style scoped>\n",
       "    .dataframe tbody tr th:only-of-type {\n",
       "        vertical-align: middle;\n",
       "    }\n",
       "\n",
       "    .dataframe tbody tr th {\n",
       "        vertical-align: top;\n",
       "    }\n",
       "\n",
       "    .dataframe thead th {\n",
       "        text-align: right;\n",
       "    }\n",
       "</style>\n",
       "<table border=\"1\" class=\"dataframe\">\n",
       "  <thead>\n",
       "    <tr style=\"text-align: right;\">\n",
       "      <th></th>\n",
       "      <th>CARD_HOLDER</th>\n",
       "      <th>FIRST_NAME</th>\n",
       "      <th>SURNAME</th>\n",
       "      <th>TRANS_ID</th>\n",
       "      <th>AMOUNT</th>\n",
       "      <th>OP_DATE_PRECISE</th>\n",
       "    </tr>\n",
       "  </thead>\n",
       "  <tbody>\n",
       "    <tr>\n",
       "      <th>1</th>\n",
       "      <td>2289906</td>\n",
       "      <td>AYTAC</td>\n",
       "      <td>AĞAKİŞİYEVA</td>\n",
       "      <td>TM758251134</td>\n",
       "      <td>1.00</td>\n",
       "      <td>23/08/2017</td>\n",
       "    </tr>\n",
       "    <tr>\n",
       "      <th>2</th>\n",
       "      <td>2289906</td>\n",
       "      <td>AYTAC</td>\n",
       "      <td>AĞAKİŞİYEVA</td>\n",
       "      <td>TM758251135</td>\n",
       "      <td>1.19</td>\n",
       "      <td>23/08/2017</td>\n",
       "    </tr>\n",
       "    <tr>\n",
       "      <th>3</th>\n",
       "      <td>2289906</td>\n",
       "      <td>AYTAC</td>\n",
       "      <td>AĞAKİŞİYEVA</td>\n",
       "      <td>TM758251136</td>\n",
       "      <td>2.18</td>\n",
       "      <td>23/08/2017</td>\n",
       "    </tr>\n",
       "    <tr>\n",
       "      <th>4</th>\n",
       "      <td>2289906</td>\n",
       "      <td>AYTAC</td>\n",
       "      <td>AĞAKİŞİYEVA</td>\n",
       "      <td>TM754884437</td>\n",
       "      <td>15.15</td>\n",
       "      <td>16/08/2017</td>\n",
       "    </tr>\n",
       "    <tr>\n",
       "      <th>5</th>\n",
       "      <td>2289906</td>\n",
       "      <td>AYTAC</td>\n",
       "      <td>AĞAKİŞİYEVA</td>\n",
       "      <td>TM758797131</td>\n",
       "      <td>1.52</td>\n",
       "      <td>24/08/2017</td>\n",
       "    </tr>\n",
       "  </tbody>\n",
       "</table>\n",
       "</div>"
      ],
      "text/plain": [
       "   CARD_HOLDER FIRST_NAME      SURNAME     TRANS_ID  AMOUNT OP_DATE_PRECISE\n",
       "1      2289906      AYTAC  AĞAKİŞİYEVA  TM758251134    1.00      23/08/2017\n",
       "2      2289906      AYTAC  AĞAKİŞİYEVA  TM758251135    1.19      23/08/2017\n",
       "3      2289906      AYTAC  AĞAKİŞİYEVA  TM758251136    2.18      23/08/2017\n",
       "4      2289906      AYTAC  AĞAKİŞİYEVA  TM754884437   15.15      16/08/2017\n",
       "5      2289906      AYTAC  AĞAKİŞİYEVA  TM758797131    1.52      24/08/2017"
      ]
     },
     "execution_count": 6,
     "metadata": {},
     "output_type": "execute_result"
    }
   ],
   "source": [
    "df1.head()\n"
   ]
  },
  {
   "cell_type": "code",
   "execution_count": 7,
   "metadata": {},
   "outputs": [],
   "source": [
    "import datetime as dt\n",
    "NOW = dt.datetime(2018,10,24)"
   ]
  },
  {
   "cell_type": "code",
   "execution_count": 8,
   "metadata": {},
   "outputs": [],
   "source": [
    "df1['OP_DATE_PRECISE'] = pd.to_datetime(df['OP_DATE_PRECISE'], format=\"%d/%m/%Y\")\n",
    "# Since recency is calculated for a point in time. The last invoice date is 2018-10-24, this is the date we will use to calculate recency.\n"
   ]
  },
  {
   "cell_type": "code",
   "execution_count": 9,
   "metadata": {},
   "outputs": [
    {
     "data": {
      "text/plain": [
       "Timestamp('2017-08-09 00:00:00')"
      ]
     },
     "execution_count": 9,
     "metadata": {},
     "output_type": "execute_result"
    }
   ],
   "source": [
    "df1['OP_DATE_PRECISE'].min()\n"
   ]
  },
  {
   "cell_type": "code",
   "execution_count": 10,
   "metadata": {},
   "outputs": [
    {
     "data": {
      "text/plain": [
       "Timestamp('2018-10-23 00:00:00')"
      ]
     },
     "execution_count": 10,
     "metadata": {},
     "output_type": "execute_result"
    }
   ],
   "source": [
    "df1['OP_DATE_PRECISE'].max()\n"
   ]
  },
  {
   "cell_type": "code",
   "execution_count": 11,
   "metadata": {},
   "outputs": [],
   "source": [
    "# Create a RFM table\n",
    "rfmTable = df1.groupby('CARD_HOLDER').agg({'OP_DATE_PRECISE': lambda x: (NOW - x.max()).days, # Recency\n",
    "                                        'TRANS_ID': lambda x: x.count(),      # Frequency\n",
    "                                        'AMOUNT': lambda x: x.sum()}) # Monetary Value\n",
    "\n",
    "rfmTable['OP_DATE_PRECISE'] = rfmTable['OP_DATE_PRECISE'].astype(int)\n",
    "rfmTable.rename(columns={'OP_DATE_PRECISE': 'recency', \n",
    "                         'TRANS_ID': 'frequency', \n",
    "                         'AMOUNT': 'monetary_value'}, inplace=True)\n"
   ]
  },
  {
   "cell_type": "code",
   "execution_count": 12,
   "metadata": {},
   "outputs": [
    {
     "data": {
      "text/html": [
       "<div>\n",
       "<style scoped>\n",
       "    .dataframe tbody tr th:only-of-type {\n",
       "        vertical-align: middle;\n",
       "    }\n",
       "\n",
       "    .dataframe tbody tr th {\n",
       "        vertical-align: top;\n",
       "    }\n",
       "\n",
       "    .dataframe thead th {\n",
       "        text-align: right;\n",
       "    }\n",
       "</style>\n",
       "<table border=\"1\" class=\"dataframe\">\n",
       "  <thead>\n",
       "    <tr style=\"text-align: right;\">\n",
       "      <th></th>\n",
       "      <th>recency</th>\n",
       "      <th>frequency</th>\n",
       "      <th>monetary_value</th>\n",
       "    </tr>\n",
       "    <tr>\n",
       "      <th>CARD_HOLDER</th>\n",
       "      <th></th>\n",
       "      <th></th>\n",
       "      <th></th>\n",
       "    </tr>\n",
       "  </thead>\n",
       "  <tbody>\n",
       "    <tr>\n",
       "      <th>50</th>\n",
       "      <td>430</td>\n",
       "      <td>4</td>\n",
       "      <td>8.85</td>\n",
       "    </tr>\n",
       "    <tr>\n",
       "      <th>298</th>\n",
       "      <td>387</td>\n",
       "      <td>6</td>\n",
       "      <td>8085.22</td>\n",
       "    </tr>\n",
       "    <tr>\n",
       "      <th>815</th>\n",
       "      <td>418</td>\n",
       "      <td>1</td>\n",
       "      <td>23.00</td>\n",
       "    </tr>\n",
       "    <tr>\n",
       "      <th>949</th>\n",
       "      <td>417</td>\n",
       "      <td>1</td>\n",
       "      <td>2.00</td>\n",
       "    </tr>\n",
       "    <tr>\n",
       "      <th>964</th>\n",
       "      <td>399</td>\n",
       "      <td>1</td>\n",
       "      <td>170.00</td>\n",
       "    </tr>\n",
       "  </tbody>\n",
       "</table>\n",
       "</div>"
      ],
      "text/plain": [
       "             recency  frequency  monetary_value\n",
       "CARD_HOLDER                                    \n",
       "50               430          4            8.85\n",
       "298              387          6         8085.22\n",
       "815              418          1           23.00\n",
       "949              417          1            2.00\n",
       "964              399          1          170.00"
      ]
     },
     "execution_count": 12,
     "metadata": {},
     "output_type": "execute_result"
    }
   ],
   "source": [
    "rfmTable.head()\n"
   ]
  },
  {
   "cell_type": "code",
   "execution_count": 13,
   "metadata": {},
   "outputs": [
    {
     "data": {
      "text/html": [
       "<div>\n",
       "<style scoped>\n",
       "    .dataframe tbody tr th:only-of-type {\n",
       "        vertical-align: middle;\n",
       "    }\n",
       "\n",
       "    .dataframe tbody tr th {\n",
       "        vertical-align: top;\n",
       "    }\n",
       "\n",
       "    .dataframe thead th {\n",
       "        text-align: right;\n",
       "    }\n",
       "</style>\n",
       "<table border=\"1\" class=\"dataframe\">\n",
       "  <thead>\n",
       "    <tr style=\"text-align: right;\">\n",
       "      <th></th>\n",
       "      <th>recency</th>\n",
       "      <th>frequency</th>\n",
       "      <th>monetary_value</th>\n",
       "    </tr>\n",
       "  </thead>\n",
       "  <tbody>\n",
       "    <tr>\n",
       "      <th>0.2</th>\n",
       "      <td>82.0</td>\n",
       "      <td>2.0</td>\n",
       "      <td>60.792</td>\n",
       "    </tr>\n",
       "    <tr>\n",
       "      <th>0.4</th>\n",
       "      <td>385.0</td>\n",
       "      <td>4.0</td>\n",
       "      <td>197.720</td>\n",
       "    </tr>\n",
       "    <tr>\n",
       "      <th>0.6</th>\n",
       "      <td>390.0</td>\n",
       "      <td>8.0</td>\n",
       "      <td>493.240</td>\n",
       "    </tr>\n",
       "    <tr>\n",
       "      <th>0.8</th>\n",
       "      <td>407.0</td>\n",
       "      <td>18.0</td>\n",
       "      <td>1334.936</td>\n",
       "    </tr>\n",
       "  </tbody>\n",
       "</table>\n",
       "</div>"
      ],
      "text/plain": [
       "     recency  frequency  monetary_value\n",
       "0.2     82.0        2.0          60.792\n",
       "0.4    385.0        4.0         197.720\n",
       "0.6    390.0        8.0         493.240\n",
       "0.8    407.0       18.0        1334.936"
      ]
     },
     "execution_count": 13,
     "metadata": {},
     "output_type": "execute_result"
    }
   ],
   "source": [
    "quantiles = rfmTable.quantile(q=[0.20,0.40,0.60,0.80])\n",
    "quantiles"
   ]
  },
  {
   "cell_type": "code",
   "execution_count": 14,
   "metadata": {},
   "outputs": [
    {
     "data": {
      "text/plain": [
       "{'recency': {0.2: 82.0, 0.4: 385.0, 0.6: 390.0, 0.8: 407.0},\n",
       " 'frequency': {0.2: 2.0, 0.4: 4.0, 0.6: 8.0, 0.8: 18.0},\n",
       " 'monetary_value': {0.2: 60.79200000000003,\n",
       "  0.4: 197.72000000000003,\n",
       "  0.6: 493.24000000000007,\n",
       "  0.8: 1334.9360000000001}}"
      ]
     },
     "execution_count": 14,
     "metadata": {},
     "output_type": "execute_result"
    }
   ],
   "source": [
    "quantiles = quantiles.to_dict()\n",
    "quantiles\n"
   ]
  },
  {
   "cell_type": "code",
   "execution_count": 15,
   "metadata": {},
   "outputs": [],
   "source": [
    "segmented_rfm = rfmTable"
   ]
  },
  {
   "cell_type": "code",
   "execution_count": 16,
   "metadata": {},
   "outputs": [],
   "source": [
    "# Lowest recency, highest frequency and monetary are our best customers \n",
    "def RScore(x,p,d):\n",
    "    if x <= d[p][0.20]:\n",
    "        return 1\n",
    "    elif x <= d[p][0.40]:\n",
    "        return 2\n",
    "    elif x <= d[p][0.60]: \n",
    "        return 3\n",
    "    elif x <= d[p][0.80]: \n",
    "        return 4\n",
    "    else:\n",
    "        return 5\n",
    "    \n",
    "def FMScore(x,p,d):\n",
    "    if x <= d[p][0.20]:\n",
    "        return 5\n",
    "    elif x <= d[p][0.40]:\n",
    "        return 4\n",
    "    elif x <= d[p][0.60]: \n",
    "        return 3\n",
    "    elif x <= d[p][0.80]: \n",
    "        return 2\n",
    "    else:\n",
    "        return 1\n"
   ]
  },
  {
   "cell_type": "code",
   "execution_count": 17,
   "metadata": {},
   "outputs": [],
   "source": [
    "segmented_rfm['r_quartile'] = segmented_rfm['recency'].apply(RScore, args=('recency',quantiles,))\n",
    "segmented_rfm['f_quartile'] = segmented_rfm['frequency'].apply(FMScore, args=('frequency',quantiles,))\n",
    "segmented_rfm['m_quartile'] = segmented_rfm['monetary_value'].apply(FMScore, args=('monetary_value',quantiles,))\n",
    "# Add segment numbers to the RFM table"
   ]
  },
  {
   "cell_type": "code",
   "execution_count": 18,
   "metadata": {},
   "outputs": [
    {
     "data": {
      "text/html": [
       "<div>\n",
       "<style scoped>\n",
       "    .dataframe tbody tr th:only-of-type {\n",
       "        vertical-align: middle;\n",
       "    }\n",
       "\n",
       "    .dataframe tbody tr th {\n",
       "        vertical-align: top;\n",
       "    }\n",
       "\n",
       "    .dataframe thead th {\n",
       "        text-align: right;\n",
       "    }\n",
       "</style>\n",
       "<table border=\"1\" class=\"dataframe\">\n",
       "  <thead>\n",
       "    <tr style=\"text-align: right;\">\n",
       "      <th></th>\n",
       "      <th>recency</th>\n",
       "      <th>frequency</th>\n",
       "      <th>monetary_value</th>\n",
       "      <th>r_quartile</th>\n",
       "      <th>f_quartile</th>\n",
       "      <th>m_quartile</th>\n",
       "    </tr>\n",
       "    <tr>\n",
       "      <th>CARD_HOLDER</th>\n",
       "      <th></th>\n",
       "      <th></th>\n",
       "      <th></th>\n",
       "      <th></th>\n",
       "      <th></th>\n",
       "      <th></th>\n",
       "    </tr>\n",
       "  </thead>\n",
       "  <tbody>\n",
       "    <tr>\n",
       "      <th>50</th>\n",
       "      <td>430</td>\n",
       "      <td>4</td>\n",
       "      <td>8.85</td>\n",
       "      <td>5</td>\n",
       "      <td>4</td>\n",
       "      <td>5</td>\n",
       "    </tr>\n",
       "    <tr>\n",
       "      <th>298</th>\n",
       "      <td>387</td>\n",
       "      <td>6</td>\n",
       "      <td>8085.22</td>\n",
       "      <td>3</td>\n",
       "      <td>3</td>\n",
       "      <td>1</td>\n",
       "    </tr>\n",
       "    <tr>\n",
       "      <th>815</th>\n",
       "      <td>418</td>\n",
       "      <td>1</td>\n",
       "      <td>23.00</td>\n",
       "      <td>5</td>\n",
       "      <td>5</td>\n",
       "      <td>5</td>\n",
       "    </tr>\n",
       "    <tr>\n",
       "      <th>949</th>\n",
       "      <td>417</td>\n",
       "      <td>1</td>\n",
       "      <td>2.00</td>\n",
       "      <td>5</td>\n",
       "      <td>5</td>\n",
       "      <td>5</td>\n",
       "    </tr>\n",
       "    <tr>\n",
       "      <th>964</th>\n",
       "      <td>399</td>\n",
       "      <td>1</td>\n",
       "      <td>170.00</td>\n",
       "      <td>4</td>\n",
       "      <td>5</td>\n",
       "      <td>4</td>\n",
       "    </tr>\n",
       "  </tbody>\n",
       "</table>\n",
       "</div>"
      ],
      "text/plain": [
       "             recency  frequency  monetary_value  r_quartile  f_quartile  \\\n",
       "CARD_HOLDER                                                               \n",
       "50               430          4            8.85           5           4   \n",
       "298              387          6         8085.22           3           3   \n",
       "815              418          1           23.00           5           5   \n",
       "949              417          1            2.00           5           5   \n",
       "964              399          1          170.00           4           5   \n",
       "\n",
       "             m_quartile  \n",
       "CARD_HOLDER              \n",
       "50                    5  \n",
       "298                   1  \n",
       "815                   5  \n",
       "949                   5  \n",
       "964                   4  "
      ]
     },
     "execution_count": 18,
     "metadata": {},
     "output_type": "execute_result"
    }
   ],
   "source": [
    "segmented_rfm.head()\n"
   ]
  },
  {
   "cell_type": "code",
   "execution_count": 19,
   "metadata": {},
   "outputs": [
    {
     "data": {
      "text/html": [
       "<div>\n",
       "<style scoped>\n",
       "    .dataframe tbody tr th:only-of-type {\n",
       "        vertical-align: middle;\n",
       "    }\n",
       "\n",
       "    .dataframe tbody tr th {\n",
       "        vertical-align: top;\n",
       "    }\n",
       "\n",
       "    .dataframe thead th {\n",
       "        text-align: right;\n",
       "    }\n",
       "</style>\n",
       "<table border=\"1\" class=\"dataframe\">\n",
       "  <thead>\n",
       "    <tr style=\"text-align: right;\">\n",
       "      <th></th>\n",
       "      <th>recency</th>\n",
       "      <th>frequency</th>\n",
       "      <th>monetary_value</th>\n",
       "      <th>r_quartile</th>\n",
       "      <th>f_quartile</th>\n",
       "      <th>m_quartile</th>\n",
       "      <th>RFMScore</th>\n",
       "    </tr>\n",
       "    <tr>\n",
       "      <th>CARD_HOLDER</th>\n",
       "      <th></th>\n",
       "      <th></th>\n",
       "      <th></th>\n",
       "      <th></th>\n",
       "      <th></th>\n",
       "      <th></th>\n",
       "      <th></th>\n",
       "    </tr>\n",
       "  </thead>\n",
       "  <tbody>\n",
       "    <tr>\n",
       "      <th>50</th>\n",
       "      <td>430</td>\n",
       "      <td>4</td>\n",
       "      <td>8.85</td>\n",
       "      <td>5</td>\n",
       "      <td>4</td>\n",
       "      <td>5</td>\n",
       "      <td>545</td>\n",
       "    </tr>\n",
       "    <tr>\n",
       "      <th>298</th>\n",
       "      <td>387</td>\n",
       "      <td>6</td>\n",
       "      <td>8085.22</td>\n",
       "      <td>3</td>\n",
       "      <td>3</td>\n",
       "      <td>1</td>\n",
       "      <td>331</td>\n",
       "    </tr>\n",
       "    <tr>\n",
       "      <th>815</th>\n",
       "      <td>418</td>\n",
       "      <td>1</td>\n",
       "      <td>23.00</td>\n",
       "      <td>5</td>\n",
       "      <td>5</td>\n",
       "      <td>5</td>\n",
       "      <td>555</td>\n",
       "    </tr>\n",
       "    <tr>\n",
       "      <th>949</th>\n",
       "      <td>417</td>\n",
       "      <td>1</td>\n",
       "      <td>2.00</td>\n",
       "      <td>5</td>\n",
       "      <td>5</td>\n",
       "      <td>5</td>\n",
       "      <td>555</td>\n",
       "    </tr>\n",
       "    <tr>\n",
       "      <th>964</th>\n",
       "      <td>399</td>\n",
       "      <td>1</td>\n",
       "      <td>170.00</td>\n",
       "      <td>4</td>\n",
       "      <td>5</td>\n",
       "      <td>4</td>\n",
       "      <td>454</td>\n",
       "    </tr>\n",
       "  </tbody>\n",
       "</table>\n",
       "</div>"
      ],
      "text/plain": [
       "             recency  frequency  monetary_value  r_quartile  f_quartile  \\\n",
       "CARD_HOLDER                                                               \n",
       "50               430          4            8.85           5           4   \n",
       "298              387          6         8085.22           3           3   \n",
       "815              418          1           23.00           5           5   \n",
       "949              417          1            2.00           5           5   \n",
       "964              399          1          170.00           4           5   \n",
       "\n",
       "             m_quartile RFMScore  \n",
       "CARD_HOLDER                       \n",
       "50                    5      545  \n",
       "298                   1      331  \n",
       "815                   5      555  \n",
       "949                   5      555  \n",
       "964                   4      454  "
      ]
     },
     "execution_count": 19,
     "metadata": {},
     "output_type": "execute_result"
    }
   ],
   "source": [
    "segmented_rfm['RFMScore'] = segmented_rfm.r_quartile.map(str)\\\n",
    "                             + segmented_rfm.f_quartile.map(str)\\\n",
    "                             + segmented_rfm.m_quartile.map(str)\n",
    "segmented_rfm.head()"
   ]
  },
  {
   "cell_type": "code",
   "execution_count": 20,
   "metadata": {},
   "outputs": [
    {
     "data": {
      "text/html": [
       "<div>\n",
       "<style scoped>\n",
       "    .dataframe tbody tr th:only-of-type {\n",
       "        vertical-align: middle;\n",
       "    }\n",
       "\n",
       "    .dataframe tbody tr th {\n",
       "        vertical-align: top;\n",
       "    }\n",
       "\n",
       "    .dataframe thead th {\n",
       "        text-align: right;\n",
       "    }\n",
       "</style>\n",
       "<table border=\"1\" class=\"dataframe\">\n",
       "  <thead>\n",
       "    <tr style=\"text-align: right;\">\n",
       "      <th></th>\n",
       "      <th>recency</th>\n",
       "      <th>frequency</th>\n",
       "      <th>monetary_value</th>\n",
       "      <th>r_quartile</th>\n",
       "      <th>f_quartile</th>\n",
       "      <th>m_quartile</th>\n",
       "      <th>RFMScore</th>\n",
       "    </tr>\n",
       "    <tr>\n",
       "      <th>CARD_HOLDER</th>\n",
       "      <th></th>\n",
       "      <th></th>\n",
       "      <th></th>\n",
       "      <th></th>\n",
       "      <th></th>\n",
       "      <th></th>\n",
       "      <th></th>\n",
       "    </tr>\n",
       "  </thead>\n",
       "  <tbody>\n",
       "    <tr>\n",
       "      <th>2681849</th>\n",
       "      <td>2</td>\n",
       "      <td>164</td>\n",
       "      <td>323580.06</td>\n",
       "      <td>1</td>\n",
       "      <td>1</td>\n",
       "      <td>1</td>\n",
       "      <td>111</td>\n",
       "    </tr>\n",
       "    <tr>\n",
       "      <th>570546</th>\n",
       "      <td>1</td>\n",
       "      <td>706</td>\n",
       "      <td>141942.00</td>\n",
       "      <td>1</td>\n",
       "      <td>1</td>\n",
       "      <td>1</td>\n",
       "      <td>111</td>\n",
       "    </tr>\n",
       "    <tr>\n",
       "      <th>2716234</th>\n",
       "      <td>1</td>\n",
       "      <td>124</td>\n",
       "      <td>140984.00</td>\n",
       "      <td>1</td>\n",
       "      <td>1</td>\n",
       "      <td>1</td>\n",
       "      <td>111</td>\n",
       "    </tr>\n",
       "    <tr>\n",
       "      <th>1956620</th>\n",
       "      <td>2</td>\n",
       "      <td>106</td>\n",
       "      <td>48975.53</td>\n",
       "      <td>1</td>\n",
       "      <td>1</td>\n",
       "      <td>1</td>\n",
       "      <td>111</td>\n",
       "    </tr>\n",
       "    <tr>\n",
       "      <th>2808062</th>\n",
       "      <td>3</td>\n",
       "      <td>183</td>\n",
       "      <td>46111.62</td>\n",
       "      <td>1</td>\n",
       "      <td>1</td>\n",
       "      <td>1</td>\n",
       "      <td>111</td>\n",
       "    </tr>\n",
       "    <tr>\n",
       "      <th>2835510</th>\n",
       "      <td>2</td>\n",
       "      <td>81</td>\n",
       "      <td>45676.50</td>\n",
       "      <td>1</td>\n",
       "      <td>1</td>\n",
       "      <td>1</td>\n",
       "      <td>111</td>\n",
       "    </tr>\n",
       "    <tr>\n",
       "      <th>2851635</th>\n",
       "      <td>80</td>\n",
       "      <td>59</td>\n",
       "      <td>41654.14</td>\n",
       "      <td>1</td>\n",
       "      <td>1</td>\n",
       "      <td>1</td>\n",
       "      <td>111</td>\n",
       "    </tr>\n",
       "    <tr>\n",
       "      <th>546774</th>\n",
       "      <td>3</td>\n",
       "      <td>134</td>\n",
       "      <td>26479.42</td>\n",
       "      <td>1</td>\n",
       "      <td>1</td>\n",
       "      <td>1</td>\n",
       "      <td>111</td>\n",
       "    </tr>\n",
       "    <tr>\n",
       "      <th>2685646</th>\n",
       "      <td>2</td>\n",
       "      <td>44</td>\n",
       "      <td>25631.05</td>\n",
       "      <td>1</td>\n",
       "      <td>1</td>\n",
       "      <td>1</td>\n",
       "      <td>111</td>\n",
       "    </tr>\n",
       "    <tr>\n",
       "      <th>2183967</th>\n",
       "      <td>2</td>\n",
       "      <td>57</td>\n",
       "      <td>25060.00</td>\n",
       "      <td>1</td>\n",
       "      <td>1</td>\n",
       "      <td>1</td>\n",
       "      <td>111</td>\n",
       "    </tr>\n",
       "  </tbody>\n",
       "</table>\n",
       "</div>"
      ],
      "text/plain": [
       "             recency  frequency  monetary_value  r_quartile  f_quartile  \\\n",
       "CARD_HOLDER                                                               \n",
       "2681849            2        164       323580.06           1           1   \n",
       "570546             1        706       141942.00           1           1   \n",
       "2716234            1        124       140984.00           1           1   \n",
       "1956620            2        106        48975.53           1           1   \n",
       "2808062            3        183        46111.62           1           1   \n",
       "2835510            2         81        45676.50           1           1   \n",
       "2851635           80         59        41654.14           1           1   \n",
       "546774             3        134        26479.42           1           1   \n",
       "2685646            2         44        25631.05           1           1   \n",
       "2183967            2         57        25060.00           1           1   \n",
       "\n",
       "             m_quartile RFMScore  \n",
       "CARD_HOLDER                       \n",
       "2681849               1      111  \n",
       "570546                1      111  \n",
       "2716234               1      111  \n",
       "1956620               1      111  \n",
       "2808062               1      111  \n",
       "2835510               1      111  \n",
       "2851635               1      111  \n",
       "546774                1      111  \n",
       "2685646               1      111  \n",
       "2183967               1      111  "
      ]
     },
     "execution_count": 20,
     "metadata": {},
     "output_type": "execute_result"
    }
   ],
   "source": [
    "# Apparently, the first customer is not our best customer at all.\n",
    "\n",
    "# Here is top 10 of our best customers!\n",
    "segmented_rfm[segmented_rfm['RFMScore']=='111'].sort_values('monetary_value', ascending=False).head(10)"
   ]
  },
  {
   "cell_type": "code",
   "execution_count": 21,
   "metadata": {},
   "outputs": [],
   "source": [
    "rfm_scores = segmented_rfm.iloc[:,3:6]\n"
   ]
  },
  {
   "cell_type": "markdown",
   "metadata": {},
   "source": [
    "## Clustering"
   ]
  },
  {
   "cell_type": "code",
   "execution_count": 22,
   "metadata": {},
   "outputs": [],
   "source": [
    "import matplotlib.pyplot as plt\n",
    "from sklearn.cluster import KMeans\n"
   ]
  },
  {
   "cell_type": "code",
   "execution_count": 23,
   "metadata": {},
   "outputs": [],
   "source": [
    "#normalize\n",
    "normalized_rfm = rfmTable.iloc[:, 0:3]\n",
    "normalized_rfm.recency = (normalized_rfm.recency - normalized_rfm.recency.mean())/normalized_rfm.recency.std()\n",
    "normalized_rfm.frequency = (normalized_rfm.frequency - normalized_rfm.frequency.mean())/normalized_rfm.frequency.std()\n",
    "normalized_rfm.monetary_value = (normalized_rfm.monetary_value - normalized_rfm.monetary_value.mean())/normalized_rfm.monetary_value.std()"
   ]
  },
  {
   "cell_type": "code",
   "execution_count": 24,
   "metadata": {},
   "outputs": [
    {
     "data": {
      "image/png": "[encoded data removed]",
      "text/plain": [
       "<Figure size 432x288 with 1 Axes>"
      ]
     },
     "metadata": {
      "needs_background": "light"
     },
     "output_type": "display_data"
    }
   ],
   "source": [
    "wcss = []\n",
    "for i in range(1,11):\n",
    "    kmeans = KMeans(n_clusters=i, init='k-means++', random_state=0)\n",
    "    kmeans.fit(normalized_rfm)\n",
    "    wcss.append(kmeans.inertia_)\n",
    "    \n",
    "plt.plot(range(1,11), wcss)\n",
    "plt.title('Elbow graph')\n",
    "plt.xlabel('Cluster number')\n",
    "plt.ylabel('WCSS')\n",
    "plt.show()"
   ]
  },
  {
   "cell_type": "code",
   "execution_count": 25,
   "metadata": {},
   "outputs": [],
   "source": [
    "kmeans = KMeans(n_clusters=3, init='k-means++', random_state=0)\n",
    "clusters = kmeans.fit_predict(normalized_rfm)\n"
   ]
  },
  {
   "cell_type": "code",
   "execution_count": 26,
   "metadata": {},
   "outputs": [
    {
     "data": {
      "text/html": [
       "<div>\n",
       "<style scoped>\n",
       "    .dataframe tbody tr th:only-of-type {\n",
       "        vertical-align: middle;\n",
       "    }\n",
       "\n",
       "    .dataframe tbody tr th {\n",
       "        vertical-align: top;\n",
       "    }\n",
       "\n",
       "    .dataframe thead th {\n",
       "        text-align: right;\n",
       "    }\n",
       "</style>\n",
       "<table border=\"1\" class=\"dataframe\">\n",
       "  <thead>\n",
       "    <tr style=\"text-align: right;\">\n",
       "      <th></th>\n",
       "      <th>recency</th>\n",
       "      <th>frequency</th>\n",
       "      <th>monetary_value</th>\n",
       "      <th>r_quartile</th>\n",
       "      <th>f_quartile</th>\n",
       "      <th>m_quartile</th>\n",
       "      <th>RFMScore</th>\n",
       "      <th>clusters</th>\n",
       "    </tr>\n",
       "    <tr>\n",
       "      <th>CARD_HOLDER</th>\n",
       "      <th></th>\n",
       "      <th></th>\n",
       "      <th></th>\n",
       "      <th></th>\n",
       "      <th></th>\n",
       "      <th></th>\n",
       "      <th></th>\n",
       "      <th></th>\n",
       "    </tr>\n",
       "  </thead>\n",
       "  <tbody>\n",
       "    <tr>\n",
       "      <th>50</th>\n",
       "      <td>430</td>\n",
       "      <td>4</td>\n",
       "      <td>8.85</td>\n",
       "      <td>5</td>\n",
       "      <td>4</td>\n",
       "      <td>5</td>\n",
       "      <td>545</td>\n",
       "      <td>1</td>\n",
       "    </tr>\n",
       "    <tr>\n",
       "      <th>298</th>\n",
       "      <td>387</td>\n",
       "      <td>6</td>\n",
       "      <td>8085.22</td>\n",
       "      <td>3</td>\n",
       "      <td>3</td>\n",
       "      <td>1</td>\n",
       "      <td>331</td>\n",
       "      <td>1</td>\n",
       "    </tr>\n",
       "    <tr>\n",
       "      <th>815</th>\n",
       "      <td>418</td>\n",
       "      <td>1</td>\n",
       "      <td>23.00</td>\n",
       "      <td>5</td>\n",
       "      <td>5</td>\n",
       "      <td>5</td>\n",
       "      <td>555</td>\n",
       "      <td>1</td>\n",
       "    </tr>\n",
       "    <tr>\n",
       "      <th>949</th>\n",
       "      <td>417</td>\n",
       "      <td>1</td>\n",
       "      <td>2.00</td>\n",
       "      <td>5</td>\n",
       "      <td>5</td>\n",
       "      <td>5</td>\n",
       "      <td>555</td>\n",
       "      <td>1</td>\n",
       "    </tr>\n",
       "    <tr>\n",
       "      <th>964</th>\n",
       "      <td>399</td>\n",
       "      <td>1</td>\n",
       "      <td>170.00</td>\n",
       "      <td>4</td>\n",
       "      <td>5</td>\n",
       "      <td>4</td>\n",
       "      <td>454</td>\n",
       "      <td>1</td>\n",
       "    </tr>\n",
       "  </tbody>\n",
       "</table>\n",
       "</div>"
      ],
      "text/plain": [
       "             recency  frequency  monetary_value  r_quartile  f_quartile  \\\n",
       "CARD_HOLDER                                                               \n",
       "50               430          4            8.85           5           4   \n",
       "298              387          6         8085.22           3           3   \n",
       "815              418          1           23.00           5           5   \n",
       "949              417          1            2.00           5           5   \n",
       "964              399          1          170.00           4           5   \n",
       "\n",
       "             m_quartile RFMScore  clusters  \n",
       "CARD_HOLDER                                 \n",
       "50                    5      545         1  \n",
       "298                   1      331         1  \n",
       "815                   5      555         1  \n",
       "949                   5      555         1  \n",
       "964                   4      454         1  "
      ]
     },
     "execution_count": 26,
     "metadata": {},
     "output_type": "execute_result"
    }
   ],
   "source": [
    "rfmTable['clusters'] = clusters\n",
    "rfmTable.head()"
   ]
  },
  {
   "cell_type": "code",
   "execution_count": 28,
   "metadata": {},
   "outputs": [
    {
     "data": {
      "image/png": "[encoded data removed]",
      "text/plain": [
       "<Figure size 432x288 with 2 Axes>"
      ]
     },
     "metadata": {
      "needs_background": "light"
     },
     "output_type": "display_data"
    }
   ],
   "source": [
    "from mpl_toolkits.mplot3d import Axes3D\n",
    "\n",
    "fig = plt.figure(2)\n",
    "ax = fig.add_subplot(111, projection='3d')\n",
    "ax = Axes3D(fig)\n",
    "\n",
    "#ax.scatter(normalized_rfm.recency, normalized_rfm.frequency, normalized_rfm.monetary_value, s=30)\n",
    "\n",
    "ax.set_xlabel('Recency')\n",
    "ax.set_ylabel('Frequency')\n",
    "ax.set_zlabel('Monetary')\n",
    "\n",
    "colors = ['blue', 'yellow', 'green', 'red']\n",
    "\n",
    "for i in range(0,4):\n",
    "    ax.scatter(normalized_rfm.recency[rfmTable.clusters == i], normalized_rfm.frequency[rfmTable.clusters == i], normalized_rfm.monetary_value[rfmTable.clusters == i], c = colors[i])\n",
    "    \n",
    "\n",
    "\n"
   ]
  },
  {
   "cell_type": "code",
   "execution_count": null,
   "metadata": {},
   "outputs": [],
   "source": []
  }
 ],
 "metadata": {
  "kernelspec": {
   "display_name": "Python 3",
   "language": "python",
   "name": "python3"
  },
  "language_info": {
   "codemirror_mode": {
    "name": "ipython",
    "version": 3
   },
   "file_extension": ".py",
   "mimetype": "text/x-python",
   "name": "python",
   "nbconvert_exporter": "python",
   "pygments_lexer": "ipython3",
   "version": "3.7.0"
  }
 },
 "nbformat": 4,
 "nbformat_minor": 2
}
